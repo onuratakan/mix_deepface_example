{
  "nbformat": 4,
  "nbformat_minor": 0,
  "metadata": {
    "colab": {
      "name": "mixdeepfaceexample.ipynb",
      "provenance": [],
      "collapsed_sections": [
        "_qp8nmrNRNq4"
      ],
      "toc_visible": true
    },
    "kernelspec": {
      "display_name": "Python 3",
      "name": "python3"
    },
    "accelerator": "GPU"
  },
  "cells": [
    {
      "cell_type": "markdown",
      "metadata": {
        "id": "OMR1lRh5RFUC"
      },
      "source": [
        "### Installing the requirements"
      ]
    },
    {
      "cell_type": "markdown",
      "metadata": {
        "id": "XbcEjhjMFECY"
      },
      "source": [
        "Adding the library"
      ]
    },
    {
      "cell_type": "code",
      "metadata": {
        "id": "u5BwdPDoFGbA"
      },
      "source": [
        "import os\r\n",
        "import urllib.request"
      ],
      "execution_count": null,
      "outputs": []
    },
    {
      "cell_type": "markdown",
      "metadata": {
        "id": "6txZaM56ZEvR"
      },
      "source": [
        "Installing and adding the deepface library"
      ]
    },
    {
      "cell_type": "code",
      "metadata": {
        "id": "EpY0zXIxQYCJ"
      },
      "source": [
        "try:\r\n",
        "    from deepface import DeepFace\r\n",
        "except:\r\n",
        "  try:\r\n",
        "    import pip\r\n",
        "    pip.main(['install', \"deepface\"])\r\n",
        "  except:\r\n",
        "    os.system(\"pip install deepface\")\r\n",
        "finally:\r\n",
        "  from deepface import DeepFace"
      ],
      "execution_count": null,
      "outputs": []
    },
    {
      "cell_type": "markdown",
      "metadata": {
        "id": "XUtI2ZgJPq4l"
      },
      "source": [
        "Creating and config the main folder"
      ]
    },
    {
      "cell_type": "code",
      "metadata": {
        "id": "j7-QKkT3Pwnk"
      },
      "source": [
        "main_db_folder = \"db/\"\r\n",
        "\r\n",
        "singular_face_folder = main_db_folder+\"singular_face/\"\r\n",
        "\r\n",
        "singular_face_1_dir = singular_face_folder+\"face_1.jpg\"\r\n",
        "singular_face_2_dir = singular_face_folder+\"face_2.jpg\"\r\n",
        "\r\n",
        "\r\n",
        "group_face_folder = main_db_folder+\"group_face/\"\r\n",
        "face_group_folder = group_face_folder+\"group/\"\r\n",
        "group_face_first_image = group_face_folder+\"face_1.jpg\"\r\n",
        "\r\n",
        "second_face_group_2_1_image = face_group_folder+\"face_2.1.jpg\"\r\n",
        "second_face_group_2_2_image = face_group_folder+\"face_2.2.jpg\"\r\n",
        "second_face_group_2_3_image = face_group_folder+\"face_2.3.jpg\"\r\n",
        "\r\n",
        "os.makedirs(main_db_folder, exist_ok=True)\r\n",
        "\r\n"
      ],
      "execution_count": null,
      "outputs": []
    },
    {
      "cell_type": "markdown",
      "metadata": {
        "id": "_qp8nmrNRNq4"
      },
      "source": [
        "### Face Verification"
      ]
    },
    {
      "cell_type": "markdown",
      "metadata": {
        "id": "7ScYcQbLEtJ3"
      },
      "source": [
        "Creating the folder"
      ]
    },
    {
      "cell_type": "code",
      "metadata": {
        "id": "cSan6PSjEvdU"
      },
      "source": [
        "os.makedirs(singular_face_folder, exist_ok=True)"
      ],
      "execution_count": null,
      "outputs": []
    },
    {
      "cell_type": "markdown",
      "metadata": {
        "id": "seABcb3_ZAVZ"
      },
      "source": [
        "Installing the photos"
      ]
    },
    {
      "cell_type": "code",
      "metadata": {
        "id": "visXTVHUY_9i"
      },
      "source": [
        "face_1_url_jpg = \"\" #@param {type:\"string\"}\r\n",
        "face_2_url_jpg = \"\" #@param {type:\"string\"}\r\n",
        "\r\n",
        "urllib.request.urlretrieve(face_1_url_jpg, singular_face_1_dir)\r\n",
        "urllib.request.urlretrieve(face_2_url_jpg, singular_face_2_dir)"
      ],
      "execution_count": null,
      "outputs": []
    },
    {
      "cell_type": "markdown",
      "metadata": {
        "id": "oMbqKlnuOsx6"
      },
      "source": [
        "Run test"
      ]
    },
    {
      "cell_type": "code",
      "metadata": {
        "id": "YWPVLWsyRSLv"
      },
      "source": [
        "result  = DeepFace.verify(singular_face_1_dir, singular_face_2_dir)\r\n",
        "#results = DeepFace.verify([['img1.jpg', 'img2.jpg'], ['img1.jpg', 'img3.jpg']])\r\n",
        "print(\"Is verified: \", result[\"verified\"])"
      ],
      "execution_count": null,
      "outputs": []
    },
    {
      "cell_type": "markdown",
      "metadata": {
        "id": "Cf2NXLHAcdbk"
      },
      "source": [
        "Compare Models"
      ]
    },
    {
      "cell_type": "code",
      "metadata": {
        "id": "YrmzynMAcdzE"
      },
      "source": [
        "models = [\"VGG-Face\", \"Facenet\", \"OpenFace\", \"DeepFace\", \"DeepID\", \"ArcFace\", \"Dlib\"]\r\n",
        "for model in models:\r\n",
        "   result = DeepFace.verify(singular_face_1_dir, singular_face_2_dir, model_name = model)\r\n",
        "   print(\"\\nModel: \"+model)\r\n",
        "   print(\"Verification result: \"+str(result[\"verified\"])+\"\\n\\n\")"
      ],
      "execution_count": null,
      "outputs": []
    },
    {
      "cell_type": "markdown",
      "metadata": {
        "id": "QYIMeQ3m9cru"
      },
      "source": [
        "Compare Metrics"
      ]
    },
    {
      "cell_type": "code",
      "metadata": {
        "id": "4GJwhR-x9hj9"
      },
      "source": [
        "metrics = [\"cosine\", \"euclidean\", \"euclidean_l2\"]\r\n",
        "for metric in metrics:\r\n",
        "   result = DeepFace.verify(singular_face_1_dir, singular_face_2_dir,distance_metric = metric)\r\n",
        "   print(\"\\nMetrix: \"+metric)\r\n",
        "   print(\"Verification result: \"+str(result[\"verified\"])+\"\\n\\n\")"
      ],
      "execution_count": null,
      "outputs": []
    },
    {
      "cell_type": "markdown",
      "metadata": {
        "id": "8VB45jSKMgrP"
      },
      "source": [
        "### Face Recognition From Database"
      ]
    },
    {
      "cell_type": "markdown",
      "metadata": {
        "id": "N3GMsOn29gtO"
      },
      "source": [
        ""
      ]
    },
    {
      "cell_type": "markdown",
      "metadata": {
        "id": "ivc2eqVrPaCI"
      },
      "source": [
        "Creating the folder"
      ]
    },
    {
      "cell_type": "code",
      "metadata": {
        "id": "wjA9bZiUPg2D"
      },
      "source": [
        "os.makedirs(group_face_folder, exist_ok=True)\r\n",
        "os.makedirs(face_group_folder, exist_ok=True)"
      ],
      "execution_count": null,
      "outputs": []
    },
    {
      "cell_type": "markdown",
      "metadata": {
        "id": "6qLKvy7XPeWR"
      },
      "source": [
        "Installing the photos"
      ]
    },
    {
      "cell_type": "code",
      "metadata": {
        "id": "sWSsjiCtPi9r"
      },
      "source": [
        "face_1_url_jpg = \"\" #@param {type:\"string\"}\r\n",
        "\r\n",
        "face_2_1_url_jpg = \"\" #@param {type:\"string\"}\r\n",
        "face_2_2_url_jpg = \"\" #@param {type:\"string\"}\r\n",
        "face_2_3_url_jpg = \"\" #@param {type:\"string\"}\r\n",
        "\r\n",
        "urllib.request.urlretrieve(face_1_url_jpg, group_face_first_image)\r\n",
        "urllib.request.urlretrieve(face_2_1_url_jpg, second_face_group_2_1_image)\r\n",
        "urllib.request.urlretrieve(face_2_2_url_jpg, second_face_group_2_2_image)\r\n",
        "urllib.request.urlretrieve(face_2_3_url_jpg, second_face_group_2_3_image)"
      ],
      "execution_count": null,
      "outputs": []
    },
    {
      "cell_type": "markdown",
      "metadata": {
        "id": "EYfMCHv9PlHL"
      },
      "source": [
        "Run test"
      ]
    },
    {
      "cell_type": "code",
      "metadata": {
        "id": "TdtXh20FPm8t"
      },
      "source": [
        "df = DeepFace.find(img_path = group_face_first_image, db_path = face_group_folder)\r\n",
        "df.head()"
      ],
      "execution_count": null,
      "outputs": []
    },
    {
      "cell_type": "markdown",
      "metadata": {
        "id": "jr6EBHGsas0D"
      },
      "source": [
        "Compare Models"
      ]
    },
    {
      "cell_type": "code",
      "metadata": {
        "id": "fDtdz2_Aas0D"
      },
      "source": [
        "models = [\"VGG-Face\", \"Facenet\", \"OpenFace\", \"DeepFace\", \"DeepID\", \"ArcFace\", \"Dlib\"]\r\n",
        "for model in models:\r\n",
        "   df = DeepFace.find(img_path = group_face_first_image, db_path = face_group_folder, model_name = model)\r\n",
        "   print(\"\\nModel: \"+model)\r\n",
        "   print(\"Recognition result: \")\r\n",
        "   print(df.head())\r\n",
        "   print(\"\\n\")\r\n"
      ],
      "execution_count": null,
      "outputs": []
    },
    {
      "cell_type": "markdown",
      "metadata": {
        "id": "GPXf173fHhg_"
      },
      "source": [
        "Compare Metrics"
      ]
    },
    {
      "cell_type": "code",
      "metadata": {
        "id": "OLd3Ht9OHj5-"
      },
      "source": [
        "metrics = [\"cosine\", \"euclidean\", \"euclidean_l2\"]\r\n",
        "for metric in metrics:\r\n",
        "   df = DeepFace.find(img_path = group_face_first_image, db_path = face_group_folder, distance_metric = metric)\r\n",
        "   print(\"\\nMetrix: \"+metric)\r\n",
        "   print(\"Recognition result: \")\r\n",
        "   print(df.head())\r\n",
        "   print(\"\\n\")"
      ],
      "execution_count": null,
      "outputs": []
    },
    {
      "cell_type": "markdown",
      "metadata": {
        "id": "vwDcXsLRILzm"
      },
      "source": [
        "### Facial Attribute Analysis"
      ]
    },
    {
      "cell_type": "markdown",
      "metadata": {
        "id": "roOBkkQFIkMG"
      },
      "source": [
        "Installing the photos"
      ]
    },
    {
      "cell_type": "code",
      "metadata": {
        "id": "JKVc6y8dIqOu"
      },
      "source": [
        "face_1_url_jpg = \"\" #@param {type:\"string\"}\r\n",
        "\r\n",
        "urllib.request.urlretrieve(face_1_url_jpg, singular_face_1_dir)"
      ],
      "execution_count": null,
      "outputs": []
    },
    {
      "cell_type": "markdown",
      "metadata": {
        "id": "gQMd9cIVIwgt"
      },
      "source": [
        "Run test"
      ]
    },
    {
      "cell_type": "code",
      "metadata": {
        "id": "Cc_KS_S4IvK9"
      },
      "source": [
        "obj = DeepFace.analyze(img_path = singular_face_1_dir, actions = ['age', 'gender', 'race', 'emotion'])\r\n",
        "#objs = DeepFace.analyze([\"img1.jpg\", \"img2.jpg\", \"img3.jpg\"]) #analyzing multiple faces same time\r\n",
        "print(\"\\n\")\r\n",
        "print(obj[\"age\"],\" years old \",obj[\"dominant_race\"],\" \",obj[\"dominant_emotion\"],\" \", obj[\"gender\"])"
      ],
      "execution_count": null,
      "outputs": []
    }
  ]
}
